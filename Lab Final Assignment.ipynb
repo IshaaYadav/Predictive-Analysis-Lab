{
  "nbformat": 4,
  "nbformat_minor": 0,
  "metadata": {
    "colab": {
      "provenance": []
    },
    "kernelspec": {
      "name": "python3",
      "display_name": "Python 3"
    },
    "language_info": {
      "name": "python"
    }
  },
  "cells": [
    {
      "cell_type": "code",
      "source": [
        "from google.colab import drive\n",
        "\n",
        "# Mount your Google Drive\n",
        "drive.mount('/content/drive')"
      ],
      "metadata": {
        "colab": {
          "base_uri": "https://localhost:8080/"
        },
        "id": "-eGYkk9otoTH",
        "outputId": "fba510d7-689d-4cd8-cd56-0dca85132d6b"
      },
      "execution_count": null,
      "outputs": [
        {
          "output_type": "stream",
          "name": "stdout",
          "text": [
            "Mounted at /content/drive\n"
          ]
        }
      ]
    },
    {
      "cell_type": "code",
      "execution_count": null,
      "metadata": {
        "colab": {
          "base_uri": "https://localhost:8080/"
        },
        "id": "Kv8Ax3AArSRj",
        "outputId": "96adce55-89df-418c-e0e0-b422036dbbe5"
      },
      "outputs": [
        {
          "output_type": "stream",
          "name": "stdout",
          "text": [
            "Slope (m): 1.8584329782548403\n",
            "Intercept (b): -7.10144336960245\n",
            "Mean Squared Error (MSE): 0.7430610341321237\n",
            "\n",
            "Actual vs Predicted:\n",
            "Actual: 1.40, Predicted: 2.38\n",
            "Actual: 1.40, Predicted: 2.00\n",
            "Actual: 1.30, Predicted: 1.63\n",
            "Actual: 1.50, Predicted: 1.45\n",
            "Actual: 1.40, Predicted: 2.19\n"
          ]
        }
      ],
      "source": [
        "import csv\n",
        "\n",
        "# Step 1: Load the Iris dataset file\n",
        "iris_data = []\n",
        "file_path = '/content/drive/MyDrive/Colab Notebooks/iris.csv'\n",
        "\n",
        "try:\n",
        "    with open(file_path, mode='r') as file:\n",
        "        csv_reader = csv.reader(file)\n",
        "        next(csv_reader)\n",
        "        for row in csv_reader:\n",
        "            iris_data.append([float(value) for value in row[:-1]])\n",
        "except FileNotFoundError:\n",
        "    print(\"The file was not found. Please check the file path.\")\n",
        "\n",
        "# Step 2: Check if data is loaded and separate into x and y\n",
        "if iris_data:\n",
        "    # Extract sepal length (x) and petal length (y)\n",
        "    x = [row[0] for row in iris_data]\n",
        "    y = [row[2] for row in iris_data]\n",
        "\n",
        "    # Step 3: Calculate the mean of x and y\n",
        "    x_mean = sum(x) / len(x)\n",
        "    y_mean = sum(y) / len(y)\n",
        "\n",
        "    # Step 4: Compute the coefficients (slope and intercept)\n",
        "    numerator = sum((x[i] - x_mean) * (y[i] - y_mean) for i in range(len(x)))\n",
        "    denominator = sum((x[i] - x_mean) ** 2 for i in range(len(x)))\n",
        "\n",
        "    m = numerator / denominator  # Slope\n",
        "    b = y_mean - m * x_mean      # Intercept\n",
        "\n",
        "    # Step 5: Predict y values using the regression line\n",
        "    y_pred = [m * xi + b for xi in x]\n",
        "\n",
        "    # Step 6: Mean Squared Error (MSE)\n",
        "    mse = sum((y[i] - y_pred[i]) ** 2 for i in range(len(y))) / len(y)\n",
        "\n",
        "    # Step 7: Display the results\n",
        "    print(f\"Slope (m): {m}\")\n",
        "    print(f\"Intercept (b): {b}\")\n",
        "    print(f\"Mean Squared Error (MSE): {mse}\")\n",
        "\n",
        "    # Print a few predictions\n",
        "    print(\"\\nActual vs Predicted:\")\n",
        "    for actual, predicted in zip(y[:5], y_pred[:5]):\n",
        "        print(f\"Actual: {actual:.2f}, Predicted: {predicted:.2f}\")\n",
        "else:\n",
        "    print(\"No data loaded. Please check the file and format.\")\n",
        "\n"
      ]
    }
  ]
}